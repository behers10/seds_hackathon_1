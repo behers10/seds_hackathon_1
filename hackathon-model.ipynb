{
 "cells": [
  {
   "cell_type": "code",
   "execution_count": 1,
   "metadata": {},
   "outputs": [],
   "source": [
    "import pandas as pd\n",
    "import numpy as np\n",
    "import matplotlib.pyplot as plt\n",
    "\n",
    "from sklearn.preprocessing import LabelEncoder\n",
    "from sklearn.preprocessing import OneHotEncoder\n",
    "from sklearn.compose import ColumnTransformer\n",
    "\n",
    "from sklearn.model_selection import train_test_split,cross_val_score\n",
    "from sklearn.metrics import fbeta_score, f1_score,precision_score,recall_score,accuracy_score, roc_curve, auc\n",
    "from sklearn.linear_model import LogisticRegression, LinearRegression\n",
    "\n",
    "from collections import Counter\n",
    "\n",
    "from sklearn.metrics import confusion_matrix, roc_curve,roc_auc_score,classification_report\n",
    "\n",
    "import seaborn as sns\n",
    "\n",
    "import pickle\n",
    "import xgboost as xgb\n",
    "from xgboost import XGBClassifier\n",
    "pd.set_option('display.max_columns', None)\n",
    "pd.set_option('display.max_rows', None)\n",
    "from scipy import stats"
   ]
  },
  {
   "cell_type": "code",
   "execution_count": 2,
   "metadata": {},
   "outputs": [],
   "source": [
    "col_names = [\"status\", \"duration\", \"credit_history\", \"purpose\", \"credit_amount\",\n",
    "            \"savings_account\", \"employed_since\", \"installment_rate\", \"maritial_status_sex\",\n",
    "            \"other_debtors\", \"resident_since\", \"property\", \"age\", \"other_installments\",\n",
    "            \"housing\", \"existing_credits\", \"job\", \"no_of_dependents\", \"telephone\", \"foreign_worker\", \"credit\"]"
   ]
  },
  {
   "cell_type": "code",
   "execution_count": 3,
   "metadata": {},
   "outputs": [],
   "source": [
    "df = pd.read_csv(\"data/german.data\", sep=\" \", header=None, names=col_names)"
   ]
  },
  {
   "cell_type": "code",
   "execution_count": 4,
   "metadata": {},
   "outputs": [
    {
     "name": "stdout",
     "output_type": "stream",
     "text": [
      "<class 'pandas.core.frame.DataFrame'>\n",
      "RangeIndex: 1000 entries, 0 to 999\n",
      "Data columns (total 21 columns):\n",
      " #   Column               Non-Null Count  Dtype \n",
      "---  ------               --------------  ----- \n",
      " 0   status               1000 non-null   object\n",
      " 1   duration             1000 non-null   int64 \n",
      " 2   credit_history       1000 non-null   object\n",
      " 3   purpose              1000 non-null   object\n",
      " 4   credit_amount        1000 non-null   int64 \n",
      " 5   savings_account      1000 non-null   object\n",
      " 6   employed_since       1000 non-null   object\n",
      " 7   installment_rate     1000 non-null   int64 \n",
      " 8   maritial_status_sex  1000 non-null   object\n",
      " 9   other_debtors        1000 non-null   object\n",
      " 10  resident_since       1000 non-null   int64 \n",
      " 11  property             1000 non-null   object\n",
      " 12  age                  1000 non-null   int64 \n",
      " 13  other_installments   1000 non-null   object\n",
      " 14  housing              1000 non-null   object\n",
      " 15  existing_credits     1000 non-null   int64 \n",
      " 16  job                  1000 non-null   object\n",
      " 17  no_of_dependents     1000 non-null   int64 \n",
      " 18  telephone            1000 non-null   object\n",
      " 19  foreign_worker       1000 non-null   object\n",
      " 20  credit               1000 non-null   int64 \n",
      "dtypes: int64(8), object(13)\n",
      "memory usage: 164.2+ KB\n"
     ]
    }
   ],
   "source": [
    "df.info()"
   ]
  },
  {
   "cell_type": "code",
   "execution_count": 5,
   "metadata": {},
   "outputs": [
    {
     "data": {
      "text/plain": [
       "7"
      ]
     },
     "metadata": {},
     "output_type": "display_data"
    },
    {
     "data": {
      "text/plain": [
       "13"
      ]
     },
     "metadata": {},
     "output_type": "display_data"
    },
    {
     "data": {
      "text/plain": [
       "1"
      ]
     },
     "metadata": {},
     "output_type": "display_data"
    }
   ],
   "source": [
    "#Numerical Categorical and Target variable\n",
    "targetcols=['credit']\n",
    "def cols():\n",
    "    keycols=[]\n",
    "    targetcols=['credit']\n",
    "    numcols=[col for col in df.columns if (df[col].dtype in ['float64','int64','uint8'])\\\n",
    "            & (col not in targetcols)]\n",
    "    catcols=[col for col in df.columns if (df[col].dtype not in ['float64','int64','uint8'])\\\n",
    "             & (col not in targetcols)]\n",
    "    display(len(numcols))\n",
    "    display(len(catcols))\n",
    "    display(len(targetcols))\n",
    "    return numcols ,catcols, targetcols\n",
    "numcols ,catcols, targetcols=cols()"
   ]
  },
  {
   "cell_type": "code",
   "execution_count": 6,
   "metadata": {},
   "outputs": [
    {
     "data": {
      "text/plain": [
       "duration              12.058814\n",
       "credit_amount       2822.736876\n",
       "installment_rate       1.118715\n",
       "resident_since         1.103718\n",
       "age                   11.375469\n",
       "existing_credits       0.577654\n",
       "no_of_dependents       0.362086\n",
       "credit                 0.458487\n",
       "dtype: float64"
      ]
     },
     "execution_count": 6,
     "metadata": {},
     "output_type": "execute_result"
    }
   ],
   "source": [
    "#Highly Skewed variable >0.5 or 1\n",
    "df.std()\n",
    "#Analysis :- duration , age and credit_amount treatment to be done"
   ]
  },
  {
   "cell_type": "code",
   "execution_count": 7,
   "metadata": {},
   "outputs": [
    {
     "name": "stdout",
     "output_type": "stream",
     "text": [
      "2606.75 1365.5 2319.5 3972.25\n"
     ]
    }
   ],
   "source": [
    "#Outlier Detection Method\n",
    "Q1 = df[\"credit_amount\"].quantile(0.25)\n",
    "Q3 = df[\"credit_amount\"].quantile(0.75)\n",
    "median = df[\"credit_amount\"].median()\n",
    "IQR = Q3 - Q1\n",
    "print(IQR,Q1,median,Q3)\n",
    "#df['credit_amount_zscre']=abs(stats.zscore(df['credit_amount']))\n",
    "#df['age_zscre']=abs(stats.zscore(df['age']))\n",
    "#df['duration_zscre']=abs(stats.zscore(df['duration']))\n",
    "#df=df[(df['credit_amount_zscre']<3) & (df['duration_zscre']<3) & (df['age_zscre']<3)].copy()\n",
    "#df=df.drop(['duration_zscre','age_zscre','credit_amount_zscre'],axis=1)\n",
    "#df.shape\n",
    "\n",
    "#Analysis :- Outlier Removal Technqiue Not aiding the model\n",
    "\n"
   ]
  },
  {
   "cell_type": "code",
   "execution_count": 8,
   "metadata": {},
   "outputs": [],
   "source": [
    "#Highly Skewed Variable Treatment \n",
    "#df['age_new']=np.log1p(df['age'])\n",
    "#df['duration_new']=np.log1p(df['duration'])\n",
    "#df['credit_amount_new']=np.log1p(df['credit_amount'])\n",
    "\n",
    "#Binnning Credit Amount\n",
    "#df['credit_amount_new']=pd.qcut(df['credit_amount'], q=4, labels=[0,1,2,3])\n",
    "\n",
    "#Analysis: - Not Aiding the model"
   ]
  },
  {
   "cell_type": "code",
   "execution_count": 9,
   "metadata": {},
   "outputs": [
    {
     "data": {
      "text/plain": [
       "7"
      ]
     },
     "metadata": {},
     "output_type": "display_data"
    },
    {
     "data": {
      "text/plain": [
       "13"
      ]
     },
     "metadata": {},
     "output_type": "display_data"
    },
    {
     "data": {
      "text/plain": [
       "1"
      ]
     },
     "metadata": {},
     "output_type": "display_data"
    }
   ],
   "source": [
    "#Check the variable types\n",
    "numcols ,catcols, targetcols=cols()\n",
    "\n",
    "#Target Variable Encoding\n",
    "df['credit'].replace({1:0,2:1},inplace=True)"
   ]
  },
  {
   "cell_type": "code",
   "execution_count": 10,
   "metadata": {},
   "outputs": [],
   "source": [
    "#Out of categorical ,below are ordinal variable\n",
    "#Ordinal variable Encoding\n",
    "df['employed_since'].replace({'A71':0,'A72':1,'A73':2,'A74':3,'A75':4},inplace=True)\n",
    "df['savings_account'].replace({'A65':0,'A61':1,'A62':2,'A63':3,'A64':4},inplace=True)"
   ]
  },
  {
   "cell_type": "code",
   "execution_count": 11,
   "metadata": {},
   "outputs": [
    {
     "data": {
      "text/plain": [
       "9"
      ]
     },
     "metadata": {},
     "output_type": "display_data"
    },
    {
     "data": {
      "text/plain": [
       "11"
      ]
     },
     "metadata": {},
     "output_type": "display_data"
    },
    {
     "data": {
      "text/plain": [
       "1"
      ]
     },
     "metadata": {},
     "output_type": "display_data"
    },
    {
     "data": {
      "text/plain": [
       "(1000, 54)"
      ]
     },
     "execution_count": 11,
     "metadata": {},
     "output_type": "execute_result"
    }
   ],
   "source": [
    "#Creating Dummies for remaining Categorical Columns\n",
    "\n",
    "numcols ,catcols, targetcols=cols()\n",
    "catcoldumy=pd.get_dummies(df[catcols])\n",
    "df=df.drop(catcols,axis=1)\n",
    "df = df.merge(catcoldumy, left_index=True, right_index=True)\n",
    "df.shape"
   ]
  },
  {
   "cell_type": "code",
   "execution_count": 12,
   "metadata": {},
   "outputs": [],
   "source": [
    "#Correlation Matrix\n",
    "corr_m=df.corr()   \n",
    "corr_m['abs_credit']=corr_m['credit'].abs()"
   ]
  },
  {
   "cell_type": "code",
   "execution_count": 13,
   "metadata": {
    "scrolled": true
   },
   "outputs": [
    {
     "data": {
      "text/html": [
       "<div>\n",
       "<style scoped>\n",
       "    .dataframe tbody tr th:only-of-type {\n",
       "        vertical-align: middle;\n",
       "    }\n",
       "\n",
       "    .dataframe tbody tr th {\n",
       "        vertical-align: top;\n",
       "    }\n",
       "\n",
       "    .dataframe thead th {\n",
       "        text-align: right;\n",
       "    }\n",
       "</style>\n",
       "<table border=\"1\" class=\"dataframe\">\n",
       "  <thead>\n",
       "    <tr style=\"text-align: right;\">\n",
       "      <th></th>\n",
       "      <th>abs_credit</th>\n",
       "      <th>credit</th>\n",
       "    </tr>\n",
       "  </thead>\n",
       "  <tbody>\n",
       "    <tr>\n",
       "      <th>credit</th>\n",
       "      <td>1.000000</td>\n",
       "      <td>1.000000</td>\n",
       "    </tr>\n",
       "    <tr>\n",
       "      <th>status_A14</th>\n",
       "      <td>0.322436</td>\n",
       "      <td>-0.322436</td>\n",
       "    </tr>\n",
       "    <tr>\n",
       "      <th>status_A11</th>\n",
       "      <td>0.258333</td>\n",
       "      <td>0.258333</td>\n",
       "    </tr>\n",
       "    <tr>\n",
       "      <th>duration</th>\n",
       "      <td>0.214927</td>\n",
       "      <td>0.214927</td>\n",
       "    </tr>\n",
       "    <tr>\n",
       "      <th>credit_history_A34</th>\n",
       "      <td>0.181713</td>\n",
       "      <td>-0.181713</td>\n",
       "    </tr>\n",
       "    <tr>\n",
       "      <th>credit_amount</th>\n",
       "      <td>0.154739</td>\n",
       "      <td>0.154739</td>\n",
       "    </tr>\n",
       "    <tr>\n",
       "      <th>credit_history_A30</th>\n",
       "      <td>0.144767</td>\n",
       "      <td>0.144767</td>\n",
       "    </tr>\n",
       "    <tr>\n",
       "      <th>housing_A152</th>\n",
       "      <td>0.134589</td>\n",
       "      <td>-0.134589</td>\n",
       "    </tr>\n",
       "    <tr>\n",
       "      <th>credit_history_A31</th>\n",
       "      <td>0.134448</td>\n",
       "      <td>0.134448</td>\n",
       "    </tr>\n",
       "    <tr>\n",
       "      <th>property_A124</th>\n",
       "      <td>0.125750</td>\n",
       "      <td>0.125750</td>\n",
       "    </tr>\n",
       "    <tr>\n",
       "      <th>status_A12</th>\n",
       "      <td>0.119581</td>\n",
       "      <td>0.119581</td>\n",
       "    </tr>\n",
       "    <tr>\n",
       "      <th>property_A121</th>\n",
       "      <td>0.119300</td>\n",
       "      <td>-0.119300</td>\n",
       "    </tr>\n",
       "    <tr>\n",
       "      <th>employed_since</th>\n",
       "      <td>0.116002</td>\n",
       "      <td>-0.116002</td>\n",
       "    </tr>\n",
       "    <tr>\n",
       "      <th>other_installments_A143</th>\n",
       "      <td>0.113285</td>\n",
       "      <td>-0.113285</td>\n",
       "    </tr>\n",
       "    <tr>\n",
       "      <th>purpose_A43</th>\n",
       "      <td>0.106922</td>\n",
       "      <td>-0.106922</td>\n",
       "    </tr>\n",
       "    <tr>\n",
       "      <th>purpose_A41</th>\n",
       "      <td>0.099791</td>\n",
       "      <td>-0.099791</td>\n",
       "    </tr>\n",
       "    <tr>\n",
       "      <th>purpose_A40</th>\n",
       "      <td>0.096900</td>\n",
       "      <td>0.096900</td>\n",
       "    </tr>\n",
       "    <tr>\n",
       "      <th>other_installments_A141</th>\n",
       "      <td>0.096510</td>\n",
       "      <td>0.096510</td>\n",
       "    </tr>\n",
       "    <tr>\n",
       "      <th>housing_A151</th>\n",
       "      <td>0.092785</td>\n",
       "      <td>0.092785</td>\n",
       "    </tr>\n",
       "    <tr>\n",
       "      <th>age</th>\n",
       "      <td>0.091127</td>\n",
       "      <td>-0.091127</td>\n",
       "    </tr>\n",
       "    <tr>\n",
       "      <th>foreign_worker_A202</th>\n",
       "      <td>0.082079</td>\n",
       "      <td>-0.082079</td>\n",
       "    </tr>\n",
       "    <tr>\n",
       "      <th>foreign_worker_A201</th>\n",
       "      <td>0.082079</td>\n",
       "      <td>0.082079</td>\n",
       "    </tr>\n",
       "    <tr>\n",
       "      <th>housing_A153</th>\n",
       "      <td>0.081556</td>\n",
       "      <td>0.081556</td>\n",
       "    </tr>\n",
       "    <tr>\n",
       "      <th>maritial_status_sex_A93</th>\n",
       "      <td>0.080677</td>\n",
       "      <td>-0.080677</td>\n",
       "    </tr>\n",
       "    <tr>\n",
       "      <th>maritial_status_sex_A92</th>\n",
       "      <td>0.075493</td>\n",
       "      <td>0.075493</td>\n",
       "    </tr>\n",
       "    <tr>\n",
       "      <th>installment_rate</th>\n",
       "      <td>0.072404</td>\n",
       "      <td>0.072404</td>\n",
       "    </tr>\n",
       "    <tr>\n",
       "      <th>purpose_A46</th>\n",
       "      <td>0.070088</td>\n",
       "      <td>0.070088</td>\n",
       "    </tr>\n",
       "    <tr>\n",
       "      <th>other_debtors_A102</th>\n",
       "      <td>0.062728</td>\n",
       "      <td>0.062728</td>\n",
       "    </tr>\n",
       "    <tr>\n",
       "      <th>other_debtors_A103</th>\n",
       "      <td>0.055039</td>\n",
       "      <td>-0.055039</td>\n",
       "    </tr>\n",
       "    <tr>\n",
       "      <th>other_installments_A142</th>\n",
       "      <td>0.050523</td>\n",
       "      <td>0.050523</td>\n",
       "    </tr>\n",
       "    <tr>\n",
       "      <th>maritial_status_sex_A91</th>\n",
       "      <td>0.050063</td>\n",
       "      <td>0.050063</td>\n",
       "    </tr>\n",
       "    <tr>\n",
       "      <th>existing_credits</th>\n",
       "      <td>0.045732</td>\n",
       "      <td>-0.045732</td>\n",
       "    </tr>\n",
       "    <tr>\n",
       "      <th>status_A13</th>\n",
       "      <td>0.044009</td>\n",
       "      <td>-0.044009</td>\n",
       "    </tr>\n",
       "    <tr>\n",
       "      <th>credit_history_A32</th>\n",
       "      <td>0.043722</td>\n",
       "      <td>0.043722</td>\n",
       "    </tr>\n",
       "    <tr>\n",
       "      <th>job_A174</th>\n",
       "      <td>0.040559</td>\n",
       "      <td>0.040559</td>\n",
       "    </tr>\n",
       "    <tr>\n",
       "      <th>purpose_A48</th>\n",
       "      <td>0.039281</td>\n",
       "      <td>-0.039281</td>\n",
       "    </tr>\n",
       "    <tr>\n",
       "      <th>telephone_A191</th>\n",
       "      <td>0.036466</td>\n",
       "      <td>0.036466</td>\n",
       "    </tr>\n",
       "    <tr>\n",
       "      <th>telephone_A192</th>\n",
       "      <td>0.036466</td>\n",
       "      <td>-0.036466</td>\n",
       "    </tr>\n",
       "    <tr>\n",
       "      <th>purpose_A49</th>\n",
       "      <td>0.036129</td>\n",
       "      <td>0.036129</td>\n",
       "    </tr>\n",
       "    <tr>\n",
       "      <th>savings_account</th>\n",
       "      <td>0.033871</td>\n",
       "      <td>-0.033871</td>\n",
       "    </tr>\n",
       "    <tr>\n",
       "      <th>purpose_A410</th>\n",
       "      <td>0.028058</td>\n",
       "      <td>0.028058</td>\n",
       "    </tr>\n",
       "    <tr>\n",
       "      <th>job_A172</th>\n",
       "      <td>0.021822</td>\n",
       "      <td>-0.021822</td>\n",
       "    </tr>\n",
       "    <tr>\n",
       "      <th>purpose_A42</th>\n",
       "      <td>0.020971</td>\n",
       "      <td>0.020971</td>\n",
       "    </tr>\n",
       "    <tr>\n",
       "      <th>purpose_A45</th>\n",
       "      <td>0.020828</td>\n",
       "      <td>0.020828</td>\n",
       "    </tr>\n",
       "    <tr>\n",
       "      <th>maritial_status_sex_A94</th>\n",
       "      <td>0.019630</td>\n",
       "      <td>-0.019630</td>\n",
       "    </tr>\n",
       "    <tr>\n",
       "      <th>job_A173</th>\n",
       "      <td>0.013559</td>\n",
       "      <td>-0.013559</td>\n",
       "    </tr>\n",
       "    <tr>\n",
       "      <th>credit_history_A33</th>\n",
       "      <td>0.012325</td>\n",
       "      <td>0.012325</td>\n",
       "    </tr>\n",
       "    <tr>\n",
       "      <th>property_A123</th>\n",
       "      <td>0.011121</td>\n",
       "      <td>0.011121</td>\n",
       "    </tr>\n",
       "    <tr>\n",
       "      <th>purpose_A44</th>\n",
       "      <td>0.008016</td>\n",
       "      <td>0.008016</td>\n",
       "    </tr>\n",
       "    <tr>\n",
       "      <th>property_A122</th>\n",
       "      <td>0.007238</td>\n",
       "      <td>0.007238</td>\n",
       "    </tr>\n",
       "    <tr>\n",
       "      <th>job_A171</th>\n",
       "      <td>0.005951</td>\n",
       "      <td>0.005951</td>\n",
       "    </tr>\n",
       "    <tr>\n",
       "      <th>no_of_dependents</th>\n",
       "      <td>0.003015</td>\n",
       "      <td>-0.003015</td>\n",
       "    </tr>\n",
       "    <tr>\n",
       "      <th>resident_since</th>\n",
       "      <td>0.002967</td>\n",
       "      <td>0.002967</td>\n",
       "    </tr>\n",
       "    <tr>\n",
       "      <th>other_debtors_A101</th>\n",
       "      <td>0.000751</td>\n",
       "      <td>-0.000751</td>\n",
       "    </tr>\n",
       "  </tbody>\n",
       "</table>\n",
       "</div>"
      ],
      "text/plain": [
       "                         abs_credit    credit\n",
       "credit                     1.000000  1.000000\n",
       "status_A14                 0.322436 -0.322436\n",
       "status_A11                 0.258333  0.258333\n",
       "duration                   0.214927  0.214927\n",
       "credit_history_A34         0.181713 -0.181713\n",
       "credit_amount              0.154739  0.154739\n",
       "credit_history_A30         0.144767  0.144767\n",
       "housing_A152               0.134589 -0.134589\n",
       "credit_history_A31         0.134448  0.134448\n",
       "property_A124              0.125750  0.125750\n",
       "status_A12                 0.119581  0.119581\n",
       "property_A121              0.119300 -0.119300\n",
       "employed_since             0.116002 -0.116002\n",
       "other_installments_A143    0.113285 -0.113285\n",
       "purpose_A43                0.106922 -0.106922\n",
       "purpose_A41                0.099791 -0.099791\n",
       "purpose_A40                0.096900  0.096900\n",
       "other_installments_A141    0.096510  0.096510\n",
       "housing_A151               0.092785  0.092785\n",
       "age                        0.091127 -0.091127\n",
       "foreign_worker_A202        0.082079 -0.082079\n",
       "foreign_worker_A201        0.082079  0.082079\n",
       "housing_A153               0.081556  0.081556\n",
       "maritial_status_sex_A93    0.080677 -0.080677\n",
       "maritial_status_sex_A92    0.075493  0.075493\n",
       "installment_rate           0.072404  0.072404\n",
       "purpose_A46                0.070088  0.070088\n",
       "other_debtors_A102         0.062728  0.062728\n",
       "other_debtors_A103         0.055039 -0.055039\n",
       "other_installments_A142    0.050523  0.050523\n",
       "maritial_status_sex_A91    0.050063  0.050063\n",
       "existing_credits           0.045732 -0.045732\n",
       "status_A13                 0.044009 -0.044009\n",
       "credit_history_A32         0.043722  0.043722\n",
       "job_A174                   0.040559  0.040559\n",
       "purpose_A48                0.039281 -0.039281\n",
       "telephone_A191             0.036466  0.036466\n",
       "telephone_A192             0.036466 -0.036466\n",
       "purpose_A49                0.036129  0.036129\n",
       "savings_account            0.033871 -0.033871\n",
       "purpose_A410               0.028058  0.028058\n",
       "job_A172                   0.021822 -0.021822\n",
       "purpose_A42                0.020971  0.020971\n",
       "purpose_A45                0.020828  0.020828\n",
       "maritial_status_sex_A94    0.019630 -0.019630\n",
       "job_A173                   0.013559 -0.013559\n",
       "credit_history_A33         0.012325  0.012325\n",
       "property_A123              0.011121  0.011121\n",
       "purpose_A44                0.008016  0.008016\n",
       "property_A122              0.007238  0.007238\n",
       "job_A171                   0.005951  0.005951\n",
       "no_of_dependents           0.003015 -0.003015\n",
       "resident_since             0.002967  0.002967\n",
       "other_debtors_A101         0.000751 -0.000751"
      ]
     },
     "execution_count": 13,
     "metadata": {},
     "output_type": "execute_result"
    }
   ],
   "source": [
    "#Correlation with target\n",
    "corr_m[['abs_credit','credit']].sort_values(by='abs_credit',ascending=False)"
   ]
  },
  {
   "cell_type": "code",
   "execution_count": 14,
   "metadata": {},
   "outputs": [],
   "source": [
    "#Taking Highly Correlated Variable with target \n",
    "corr_cols=corr_m[corr_m['abs_credit']>0.02].index.to_list()\n",
    "corr_cols.remove('credit')\n",
    "xcols=corr_cols"
   ]
  },
  {
   "cell_type": "code",
   "execution_count": 15,
   "metadata": {},
   "outputs": [
    {
     "name": "stdout",
     "output_type": "stream",
     "text": [
      "(1000, 43)\n",
      "(1000,)\n"
     ]
    }
   ],
   "source": [
    "#Divison of X and Y Variable\n",
    "y=df[targetcols].values\n",
    "X=df[xcols].values\n",
    "y=y.reshape(len(y),)\n",
    "print(X.shape)\n",
    "print(y.shape)"
   ]
  },
  {
   "cell_type": "code",
   "execution_count": 23,
   "metadata": {},
   "outputs": [],
   "source": [
    "#Splitting the data for training and testing\n",
    "X_train, X_test, y_train, y_test = train_test_split(X,y, test_size=0.2)"
   ]
  },
  {
   "cell_type": "code",
   "execution_count": 24,
   "metadata": {},
   "outputs": [],
   "source": [
    "#Oversampling\n",
    "from imblearn.over_sampling import SMOTE\n",
    "sm = SMOTE(sampling_strategy='auto')\n",
    "X_train, y_train = sm.fit_sample(X_train, y_train)\n",
    "\n",
    "#Analysis :- Overrsampling not helping"
   ]
  },
  {
   "cell_type": "code",
   "execution_count": 25,
   "metadata": {},
   "outputs": [
    {
     "data": {
      "text/plain": [
       "\"\\nfrom imblearn.combine import SMOTEENN\\nfrom imblearn.under_sampling import EditedNearestNeighbours\\nsm = SMOTEENN(enn=EditedNearestNeighbours(sampling_strategy='majority'))\\nX_train, y_train = sm.fit_sample(X_train, y_train)\\n#Analysis :- Undersampling not helping\\n\""
      ]
     },
     "execution_count": 25,
     "metadata": {},
     "output_type": "execute_result"
    }
   ],
   "source": [
    "#Undersampling\n",
    "'''\n",
    "from imblearn.combine import SMOTEENN\n",
    "from imblearn.under_sampling import EditedNearestNeighbours\n",
    "sm = SMOTEENN(enn=EditedNearestNeighbours(sampling_strategy='majority'))\n",
    "X_train, y_train = sm.fit_sample(X_train, y_train)\n",
    "#Analysis :- Undersampling not helping\n",
    "'''"
   ]
  },
  {
   "cell_type": "code",
   "execution_count": 26,
   "metadata": {},
   "outputs": [
    {
     "name": "stdout",
     "output_type": "stream",
     "text": [
      "(1132, 43)\n",
      "(200, 43)\n",
      "(1132,)\n",
      "(200,)\n"
     ]
    }
   ],
   "source": [
    "print(X_train.shape)\n",
    "print(X_test.shape)\n",
    "print(y_train.shape)\n",
    "print(y_test.shape)"
   ]
  },
  {
   "cell_type": "code",
   "execution_count": 27,
   "metadata": {},
   "outputs": [],
   "source": [
    "# Model Evaluation Function\n",
    "from sklearn.metrics import make_scorer\n",
    "def f2_measure(clf,X_test, y_test):\n",
    "    y_pred=clf.predict(X_test)\n",
    "    print('f2 score :',fbeta_score(y_test, y_pred, beta=2))\n",
    "    \n",
    "def f2_measure2(y_true, y_pred):\n",
    "    return fbeta_score(y_true, y_pred, beta=2)\n",
    "def get_eval1(clf, X,y,k):\n",
    "    # Cross Validation to test and anticipate overfitting problem\n",
    "    scores1 = cross_val_score(clf, X, y, cv=k, scoring='accuracy')\n",
    "    scores2 = cross_val_score(clf, X, y, cv=k, scoring='precision')\n",
    "    scores3 = cross_val_score(clf, X, y, cv=k, scoring='recall')\n",
    "    scores4 = cross_val_score(clf, X, y, cv=k, scoring='f1')\n",
    "    scores5 = cross_val_score(clf, X, y, cv=k, scoring='roc_auc')\n",
    "    metric=make_scorer(f2_measure2)\n",
    "    scores6 = cross_val_score(clf, X, y, scoring=metric, cv=k, n_jobs=-1)\n",
    "    \n",
    "    \n",
    "    # The mean score and standard deviation of the score estimate\n",
    "    print(\"Cross Validation Accuracy: %0.2f (+/- %0.2f)\" % (scores1.mean(), scores1.std()))\n",
    "    print(\"Cross Validation Precision: %0.2f (+/- %0.2f)\" % (scores2.mean(), scores2.std()))\n",
    "    print(\"Cross Validation Recall: %0.2f (+/- %0.2f)\" % (scores3.mean(), scores3.std()))\n",
    "    print(\"Cross Validation f1_score: %0.2f (+/- %0.2f)\" % (scores4.mean(), scores4.std()))\n",
    "    print(\"Cross Validation roc_auc: %0.2f (+/- %0.2f)\" % (scores4.mean(), scores5.std()))\n",
    "    print(\"CV Score: %0.2f (+/- %0.2f)\" % (scores6.mean(), scores6.std()))\n",
    "def cv_validation(model,param,X,y,splits):\n",
    "    from sklearn.model_selection import KFold\n",
    "    kf = KFold(n_splits=splits)\n",
    "    \n",
    "    for train_index, test_index in kf.split(X):\n",
    "        print(\"TRAIN:\", len(train_index), \"TEST:\", len(test_index))\n",
    "        X_train, X_test = X[train_index], X[test_index]\n",
    "        y_train, y_test = y[train_index], y[test_index]\n",
    "        clf = model(**param)\n",
    "        # Train the classifier until max_iterations\n",
    "        clf.fit(X_train, y_train)\n",
    "        y_pred = clf.predict(X_test)\n",
    "        \n",
    "        get_result(clf,y_test,X_test)\n",
    "def get_result (clf,y_test,X_test):\n",
    "    y_pred = clf.predict(X_test)\n",
    "    y_pred_proba = clf.predict_proba(X_test)[:,1]\n",
    "    # Compute ROC curve and ROC area for each class\n",
    "    fpr = dict()\n",
    "    tpr = dict()\n",
    "    roc_auc = dict()\n",
    "    fpr, tpr, _ = roc_curve(y_test, y_pred_proba)\n",
    "    roc_auc = auc(fpr, tpr)\n",
    "    precision = precision_score(y_test,y_pred, average='micro')\n",
    "    recall = recall_score(y_test,y_pred, average='micro')\n",
    "    accuracy = accuracy_score(y_test,y_pred)\n",
    "    f1 = f1_score(y_test,y_pred, average='macro')\n",
    "    abclf_cm = confusion_matrix(y_test,y_pred)\n",
    "    print(abclf_cm)\n",
    "    print(f\"Accuracy: {accuracy}\")\n",
    "    print(f\"Recall: {recall}\")\n",
    "    print(f\"Precision: {precision}\")\n",
    "    print(f\"F1-score: {f1}\")\n",
    "    #Plot of a ROC curve\n",
    "    plt.figure()\n",
    "    lw = 2\n",
    "    plt.plot(fpr, tpr, color='darkorange',\n",
    "             label='ROC curve (area = %0.2f)' % roc_auc)\n",
    "    plt.plot([0, 1], [0, 1], color='navy', lw=lw, linestyle='--')\n",
    "    plt.xlim([0.0, 1.0])\n",
    "    plt.ylim([0.0, 1.0])\n",
    "    plt.xlabel('False Positive Rate')\n",
    "    plt.ylabel('True Positive Rate')\n",
    "    plt.title('Receiver operating characteristic')\n",
    "    plt.legend(loc=\"upper left\")\n",
    "    plt.show()\n",
    "    return          "
   ]
  },
  {
   "cell_type": "code",
   "execution_count": 28,
   "metadata": {},
   "outputs": [
    {
     "name": "stdout",
     "output_type": "stream",
     "text": [
      "------Logistic regression--------\n",
      "f2 score : 0.5396825396825397\n",
      "[[117  17]\n",
      " [ 32  34]]\n",
      "Accuracy: 0.755\n",
      "Recall: 0.755\n",
      "Precision: 0.755\n",
      "F1-score: 0.7040258524357464\n"
     ]
    },
    {
     "data": {
      "image/png": "[encoded data removed]",
      "text/plain": [
       "<Figure size 432x288 with 1 Axes>"
      ]
     },
     "metadata": {
      "needs_background": "light"
     },
     "output_type": "display_data"
    },
    {
     "name": "stdout",
     "output_type": "stream",
     "text": [
      "Cross Validation Accuracy: 0.73 (+/- 0.05)\n",
      "Cross Validation Precision: 0.54 (+/- 0.06)\n",
      "Cross Validation Recall: 0.73 (+/- 0.06)\n",
      "Cross Validation f1_score: 0.62 (+/- 0.05)\n",
      "Cross Validation roc_auc: 0.62 (+/- 0.04)\n",
      "CV Score: 0.68 (+/- 0.05)\n",
      "------RandomForestClassifier--------\n",
      "f2 score : 0.5727554179566563\n",
      "[[112  22]\n",
      " [ 29  37]]\n",
      "Accuracy: 0.745\n",
      "Recall: 0.745\n",
      "Precision: 0.745\n",
      "F1-score: 0.7032727272727273\n"
     ]
    },
    {
     "data": {
      "image/png": "[encoded data removed]",
      "text/plain": [
       "<Figure size 432x288 with 1 Axes>"
      ]
     },
     "metadata": {
      "needs_background": "light"
     },
     "output_type": "display_data"
    },
    {
     "name": "stdout",
     "output_type": "stream",
     "text": [
      "Cross Validation Accuracy: 0.77 (+/- 0.03)\n",
      "Cross Validation Precision: 0.62 (+/- 0.07)\n",
      "Cross Validation Recall: 0.58 (+/- 0.07)\n",
      "Cross Validation f1_score: 0.60 (+/- 0.06)\n",
      "Cross Validation roc_auc: 0.60 (+/- 0.04)\n",
      "CV Score: 0.59 (+/- 0.06)\n"
     ]
    },
    {
     "data": {
      "text/plain": [
       "\"\\nprint('------XGBClassifier--------')\\nparams={'n_estimators':3000,'objective': 'binary:logistic','learning_rate': 0.05, 'gamma':0.1, 'subsample':0.8,           'colsample_bytree':0.3, 'min_child_weight':3, 'max_depth':3,'n_jobs' : -1 }\\nxgb = XGBClassifier(**params)\\nxgb.fit(X_train, y_train)\\nf2_measure(xgb,X_test, y_test)\\nget_result(xgb,y_test,X_test)\\nget_eval1(xgb,X,y,10)\\n\\n\""
      ]
     },
     "execution_count": 28,
     "metadata": {},
     "output_type": "execute_result"
    }
   ],
   "source": [
    "# Engineed Model Output\n",
    "# Logistic regression classifier\n",
    "print('------Logistic regression--------')\n",
    "clf = LogisticRegression(penalty='l2',C=1.0, max_iter=10000,solver='liblinear', class_weight='balanced')\n",
    "clf.fit(X_train, y_train)\n",
    "f2_measure(clf,X_test, y_test)\n",
    "get_result(clf,y_test,X_test)\n",
    "get_eval1(clf,X,y,10)\n",
    "\n",
    "print('------RandomForestClassifier--------')\n",
    "from sklearn.ensemble import RandomForestClassifier\n",
    "rfparam={'max_features':'auto','n_estimators': 400,'random_state':42,'max_depth':9,'oob_score':True,\\\n",
    "         'class_weight':'balanced', 'n_jobs':-1}\n",
    "rf = RandomForestClassifier(**rfparam)\n",
    "rf.fit(X_train, y_train)\n",
    "f2_measure(rf,X_test, y_test)\n",
    "get_result(rf,y_test,X_test)\n",
    "get_eval1(rf,X,y,10)\n",
    "\n",
    "'''\n",
    "print('------XGBClassifier--------')\n",
    "params={'n_estimators':3000,'objective': 'binary:logistic','learning_rate': 0.05, 'gamma':0.1, 'subsample':0.8,  \\\n",
    "         'colsample_bytree':0.3, 'min_child_weight':3, 'max_depth':3,'n_jobs' : -1 }\n",
    "xgb = XGBClassifier(**params)\n",
    "xgb.fit(X_train, y_train)\n",
    "f2_measure(xgb,X_test, y_test)\n",
    "get_result(xgb,y_test,X_test)\n",
    "get_eval1(xgb,X,y,10)\n",
    "\n",
    "'''\n",
    "#Analysis : XGBoost no performing well on CV , LR is peforming better than other two"
   ]
  },
  {
   "cell_type": "code",
   "execution_count": 29,
   "metadata": {},
   "outputs": [
    {
     "name": "stdout",
     "output_type": "stream",
     "text": [
      "TRAIN: 750 TEST: 250\n",
      "Accuracy: 0.768\n",
      "Recall: 0.768\n",
      "Precision: 0.768\n",
      "F1-score: 0.6820175438596492\n"
     ]
    },
    {
     "data": {
      "image/png": "[encoded data removed]",
      "text/plain": [
       "<Figure size 432x288 with 2 Axes>"
      ]
     },
     "metadata": {},
     "output_type": "display_data"
    },
    {
     "name": "stdout",
     "output_type": "stream",
     "text": [
      "TRAIN: 750 TEST: 250\n",
      "Accuracy: 0.792\n",
      "Recall: 0.792\n",
      "Precision: 0.792\n",
      "F1-score: 0.7149122807017544\n"
     ]
    },
    {
     "data": {
      "image/png": "[encoded data removed]",
      "text/plain": [
       "<Figure size 432x288 with 2 Axes>"
      ]
     },
     "metadata": {},
     "output_type": "display_data"
    },
    {
     "name": "stdout",
     "output_type": "stream",
     "text": [
      "TRAIN: 750 TEST: 250\n",
      "Accuracy: 0.696\n",
      "Recall: 0.696\n",
      "Precision: 0.696\n",
      "F1-score: 0.6352886977886978\n"
     ]
    },
    {
     "data": {
      "image/png": "[encoded data removed]",
      "text/plain": [
       "<Figure size 432x288 with 2 Axes>"
      ]
     },
     "metadata": {},
     "output_type": "display_data"
    },
    {
     "name": "stdout",
     "output_type": "stream",
     "text": [
      "TRAIN: 750 TEST: 250\n",
      "Accuracy: 0.748\n",
      "Recall: 0.748\n",
      "Precision: 0.748\n",
      "F1-score: 0.6803652968036531\n"
     ]
    },
    {
     "data": {
      "image/png": "[encoded data removed]",
      "text/plain": [
       "<Figure size 432x288 with 2 Axes>"
      ]
     },
     "metadata": {},
     "output_type": "display_data"
    }
   ],
   "source": [
    "from sklearn.model_selection import KFold\n",
    "kf = KFold(n_splits=4)\n",
    "\n",
    "for train_index, test_index in kf.split(X):\n",
    "    print(\"TRAIN:\", len(train_index), \"TEST:\", len(test_index))\n",
    "    X_train, X_test = X[train_index], X[test_index]\n",
    "    y_train, y_test = y[train_index], y[test_index]\n",
    "    clf = LogisticRegression(penalty='l2',C=1.0, max_iter=10000)\n",
    "    # Train the classifier until max_iterations\n",
    "    clf.fit(X_train, y_train)\n",
    "    y_pred = clf.predict(X_test)\n",
    "    \n",
    "    precision = precision_score(y_test,y_pred, average='micro')\n",
    "    recall = recall_score(y_test,y_pred, average='micro')\n",
    "    accuracy = accuracy_score(y_test,y_pred)\n",
    "    f1 = f1_score(y_test,y_pred, average='macro')\n",
    "\n",
    "    print(f\"Accuracy: {accuracy}\")\n",
    "    print(f\"Recall: {recall}\")\n",
    "    print(f\"Precision: {precision}\")\n",
    "    print(f\"F1-score: {f1}\")\n",
    "    \n",
    "    cm = confusion_matrix(y_test, y_pred)\n",
    "    df_cm = pd.DataFrame(cm, range(cm.shape[0]), range(cm.shape[1]))\n",
    "    sns.set(font_scale=1) # for label size\n",
    "    sns.heatmap(df_cm, annot=True, annot_kws={\"size\": 16}) # font size\n",
    "    plt.show()"
   ]
  },
  {
   "cell_type": "code",
   "execution_count": 30,
   "metadata": {},
   "outputs": [],
   "source": [
    "# Saving the model (to be used in API)\n",
    "filename = 'model/finalized_model.sav'\n",
    "pickle.dump(clf, open(filename, 'wb'))\n",
    " "
   ]
  },
  {
   "cell_type": "code",
   "execution_count": null,
   "metadata": {},
   "outputs": [],
   "source": []
  }
 ],
 "metadata": {
  "kernelspec": {
   "display_name": "Python 3",
   "language": "python",
   "name": "python3"
  },
  "language_info": {
   "codemirror_mode": {
    "name": "ipython",
    "version": 3
   },
   "file_extension": ".py",
   "mimetype": "text/x-python",
   "name": "python",
   "nbconvert_exporter": "python",
   "pygments_lexer": "ipython3",
   "version": "3.7.7"
  }
 },
 "nbformat": 4,
 "nbformat_minor": 5
}
